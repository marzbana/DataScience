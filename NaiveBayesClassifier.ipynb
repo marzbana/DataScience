{
 "cells": [
  {
   "cell_type": "markdown",
   "metadata": {},
   "source": [
    "# Email Spam Naive Bayes\n",
    "\n",
    "## Overview\n",
    "\n",
    "Building a naive bayes classifier from scratch that can determine whether email text should be labled spam or not spam based on its contents\n",
    "\n",
    "## Review\n",
    "\n",
    "A naive bayes classifier realizes the following probability:\n",
    "\n",
    "$$P(Y|X_1,X_2,...,X_n) \\propto P(Y)*P(X_1|Y)*P(X_2|Y)*...*P(X_n|Y)$$\n",
    "\n",
    "Where $Y$ is a binary class {0,1}\n",
    "\n",
    "Where $X_i$ is a feature of the input\n",
    "\n",
    "The classifier decides what class each input belongs to based on highest probability from the equation above"
   ]
  },
  {
   "cell_type": "code",
   "execution_count": 13,
   "metadata": {},
   "outputs": [],
   "source": [
    "#import cell\n",
    "import numpy as np\n",
    "import pandas as pd\n",
    "import math as m\n",
    "import random\n",
    "import csv"
   ]
  },
  {
   "cell_type": "markdown",
   "metadata": {},
   "source": [
    "## Function template"
   ]
  },
  {
   "cell_type": "code",
   "execution_count": 2,
   "metadata": {
    "scrolled": true
   },
   "outputs": [],
   "source": [
    "\n",
    "def prior(df):\n",
    "    ham_prior = 0\n",
    "    spam_prior =  0\n",
    "    spam_count = 0\n",
    "    ham_count = 0\n",
    "    total = 0\n",
    "    #counting the total spam and ham in the train data\n",
    "    for i in range(len(df['label'])):\n",
    "        total += 1\n",
    "        if df['label'][i] == 'ham' :\n",
    "            ham_count += 1\n",
    "        else:\n",
    "            spam_count += 1\n",
    "    ham_prior=ham_count/total\n",
    "    spam_prior=spam_count/total\n",
    "        \n",
    "    return ham_prior, spam_prior\n",
    "\n",
    "def likelihood(df):\n",
    "    ham_like_dict = {}\n",
    "    spam_like_dict = {}\n",
    "    data = df['text']\n",
    "    scount=0\n",
    "    hcount=0\n",
    "    #removing subject: and characters other then the alphabet or spaces from text\n",
    "    for x in range(len(data)):\n",
    "        i=data[x]\n",
    "        i=i.split(\" \", 1)[1]\n",
    "        i= \"\".join(c for c in data[x] if (c.isalpha() | (c == ' '))).strip()\n",
    "        data[x]=i\n",
    "    #splitting text into words\n",
    "    for i in range(len(data)): \n",
    "        x=data[i].split(\" \")\n",
    "        subject = {}\n",
    "        #counting amount of spam and ham training emails\n",
    "        if(df['label'][i]=='spam'):\n",
    "            scount += 1\n",
    "        else:\n",
    "            hcount += 1\n",
    "        #removing excess spaces from words and making them all lower case\n",
    "        for a in range(len(x)):\n",
    "            x[a]=x[a].replace(\" \", \"\").lower()\n",
    "            if(not(x[a] in subject)):\n",
    "                #making a dictionary for words in an email to make sure duplicate words don't get counted twice\n",
    "                subject[x[a]]=1\n",
    "                #labeling words as either spam or ham depending on what the email they are from is labeled as\n",
    "                if(df['label'][i]=='spam'):\n",
    "                    if(x[a] in spam_like_dict):\n",
    "                        spam_like_dict[x[a]] += 1\n",
    "                    else:\n",
    "                        spam_like_dict[x[a]]=1\n",
    "                else:\n",
    "                    if(x[a] in ham_like_dict):\n",
    "                        ham_like_dict[x[a]] += 1\n",
    "                    else:\n",
    "                        ham_like_dict[x[a]]=1\n",
    "        subject={}\n",
    "    for key in ham_like_dict:\n",
    "        ham_like_dict[key]=ham_like_dict[key]/hcount\n",
    "    for key in spam_like_dict:\n",
    "        spam_like_dict[key]=spam_like_dict[key]/scount\n",
    "    return ham_like_dict, spam_like_dict\n",
    "\n",
    "def posterior(ham_like_dict, spam_like_dict, text):\n",
    "    #a method to calculate the posterior to make the predict function more readable\n",
    "    #splitting text into words and removing subject: and non-alphabet/space characters\n",
    "    i=text.split(\" \", 1)[1]\n",
    "    i= \"\".join(c for c in i if (c.isalpha() | (c == ' '))).strip()\n",
    "    data=i.split(\" \")\n",
    "    spam=0\n",
    "    ham=0\n",
    "    for x in range(len(data)):\n",
    "        word=data[x].replace(\" \", \"\").lower()\n",
    "        \n",
    "        #filtering out words that are almost equally likely to occur in spam or ham which throws off the model, I tested my code and a value of .28 optimizes the model\n",
    "        #taking the log of the probability to avoid really low numbers that might get truncated to 0\n",
    "        if((word in ham_like_dict and word in spam_like_dict and abs(ham_like_dict[word]-spam_like_dict[word])>.28) or (word in spam_like_dict and not word in ham_like_dict ) or (word in ham_like_dict and not word in spam_like_dict ) ):\n",
    "            if(word in ham_like_dict):\n",
    "                ham += m.log(ham_like_dict[word])*-1\n",
    "            if(word in spam_like_dict):\n",
    "                spam += m.log(spam_like_dict[word])*-1\n",
    "       \n",
    "    return ham, spam\n",
    "            \n",
    "        \n",
    "def predict(ham_prior, spam_prior, ham_like_dict, spam_like_dict, text):\n",
    "    \n",
    "    #ham_posterior = posterior probability that the email is normal/ham\n",
    "    ham_posterior, spam_posterior = posterior(ham_like_dict, spam_like_dict, text)\n",
    "    \n",
    "    if(ham_posterior + ((-1)*m.log(ham_prior))>spam_posterior + ((-1)*m.log(spam_prior))):\n",
    "        return 0\n",
    "    elif(ham_posterior + ((-1)*m.log(ham_prior))<spam_posterior + ((-1)*m.log(spam_prior))):\n",
    "        return 1\n",
    "    else:\n",
    "    #if the probability is equal then I use a random number generator to randomly pick between spam or ham\n",
    "        return random.randint(0, 1)\n",
    "\n",
    "\n",
    "def metrics(ham_prior, spam_prior, ham_dict, spam_dict, df):\n",
    "    corrects=0\n",
    "    count=0\n",
    "    incorrect=0\n",
    "    lspam=0\n",
    "    lham=0\n",
    "    spam=0\n",
    "    correcth = 0\n",
    "    for i in range(len(df['label'])):\n",
    "        x=(predict(ham_prior, spam_prior, ham_dict, spam_dict, df['text'][i]))\n",
    "        count += 1\n",
    "        if(x==1):\n",
    "            lspam +=1\n",
    "            if(df['label'][i]==\"spam\"):\n",
    "                corrects += 1\n",
    "                spam += 1\n",
    "        elif(df['label'][i]==\"ham\"):\n",
    "            correcth += 1\n",
    "        elif(df['label'][i]==\"spam\"):\n",
    "            spam += 1\n",
    "    correct=corrects+correcth\n",
    "    incorrect=count-correct\n",
    "    lham=count-lspam\n",
    "    acc=correct/count\n",
    "    precision=corrects/lspam\n",
    "    ham=count-spam\n",
    "    recall=corrects/spam\n",
    "    #precision, recall\n",
    "    return acc, precision, recall"
   ]
  },
  {
   "cell_type": "markdown",
   "metadata": {},
   "source": [
    "## Generate answers"
   ]
  },
  {
   "cell_type": "code",
   "execution_count": 14,
   "metadata": {},
   "outputs": [
    {
     "name": "stdout",
     "output_type": "stream",
     "text": [
      "<class 'pandas.core.frame.DataFrame'>\n",
      "RangeIndex: 2398 entries, 0 to 2397\n",
      "Data columns (total 5 columns):\n",
      " #   Column        Non-Null Count  Dtype \n",
      "---  ------        --------------  ----- \n",
      " 0   Unnamed: 0    2398 non-null   int64 \n",
      " 1   Unnamed: 0.1  2398 non-null   int64 \n",
      " 2   label         2398 non-null   object\n",
      " 3   text          2398 non-null   object\n",
      " 4   label_num     2398 non-null   int64 \n",
      "dtypes: int64(3), object(2)\n",
      "memory usage: 93.8+ KB\n"
     ]
    }
   ],
   "source": [
    "#loading in the training data\n",
    "train_df = pd.read_csv(\"./TRAIN_balanced_ham_spam.csv\")\n",
    "test_df = pd.read_csv(\"./TEST_balanced_ham_spam.csv\")\n",
    "df = train_df\n",
    "df.info()"
   ]
  },
  {
   "cell_type": "code",
   "execution_count": 15,
   "metadata": {},
   "outputs": [
    {
     "name": "stdout",
     "output_type": "stream",
     "text": [
      "0.5 0.5\n"
     ]
    }
   ],
   "source": [
    "#compute the prior\n",
    "\n",
    "ham_prior, spam_prior = prior(df)\n",
    "\n",
    "print(ham_prior, spam_prior)"
   ]
  },
  {
   "cell_type": "code",
   "execution_count": 16,
   "metadata": {},
   "outputs": [
    {
     "name": "stderr",
     "output_type": "stream",
     "text": [
      "<ipython-input-2-ac333d77b1ca>:30: SettingWithCopyWarning: \n",
      "A value is trying to be set on a copy of a slice from a DataFrame\n",
      "\n",
      "See the caveats in the documentation: https://pandas.pydata.org/pandas-docs/stable/user_guide/indexing.html#returning-a-view-versus-a-copy\n",
      "  data[x]=i\n"
     ]
    }
   ],
   "source": [
    "# compute likelihood\n",
    "\n",
    "ham_like_dict, spam_like_dict = likelihood(df)"
   ]
  },
  {
   "cell_type": "code",
   "execution_count": 17,
   "metadata": {},
   "outputs": [
    {
     "name": "stdout",
     "output_type": "stream",
     "text": [
      "1\n"
     ]
    }
   ],
   "source": [
    "# Test your predict function with some example TEXT\n",
    "\n",
    "some_text_example = \" \"\n",
    "print(predict(ham_prior, spam_prior, ham_like_dict, spam_like_dict, some_text_example))"
   ]
  },
  {
   "cell_type": "code",
   "execution_count": 26,
   "metadata": {},
   "outputs": [
    {
     "name": "stdout",
     "output_type": "stream",
     "text": [
      "0.965 0.9543973941368078 0.9766666666666667\n"
     ]
    }
   ],
   "source": [
    "# Predict on test_df and compute metrics \n",
    "    \n",
    "df = test_df\n",
    "acc, precision, recall = metrics(ham_prior, spam_prior, ham_like_dict, spam_like_dict, df)\n",
    "print(acc, precision, recall)"
   ]
  }
 ],
 "metadata": {
  "kernelspec": {
   "display_name": "Python 3",
   "language": "python",
   "name": "python3"
  },
  "language_info": {
   "codemirror_mode": {
    "name": "ipython",
    "version": 3
   },
   "file_extension": ".py",
   "mimetype": "text/x-python",
   "name": "python",
   "nbconvert_exporter": "python",
   "pygments_lexer": "ipython3",
   "version": "3.8.8"
  }
 },
 "nbformat": 4,
 "nbformat_minor": 4
}
