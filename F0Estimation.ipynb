{
 "cells": [
  {
   "cell_type": "markdown",
   "metadata": {},
   "source": [
    "# Distinct element estimation using k-th min \n",
    "\n",
    "Idealized $F_0$ estimation uses a random hash function to map elements from the stream to float values between 0 and 1. Ultimately, it maintains the smallest hash value $V$ and outputs ${1\\over V}-1$ as the estimate $\\tilde{F}_0$ for the number of distinct elements.\n",
    "\n",
    "This algorithm uses the idea that the expected value of the smallest hash value is $1\\over F_0+1$, where $F_0$ is the number of distinct elements. In fact, we can generally use the $k$-th smallest hash value $V_k$ for $k=1,2,\\dots$."
   ]
  },
  {
   "cell_type": "code",
   "execution_count": 1,
   "metadata": {},
   "outputs": [],
   "source": [
    "# Import packages needed.\n",
    "import random, math\n",
    "import numpy as np\n",
    "import matplotlib.pyplot as plt"
   ]
  },
  {
   "cell_type": "markdown",
   "metadata": {},
   "source": [
    "To test the effect of k, we must first implement a function that takes a data sequence, hash each element to a value between 0 and 1, and returns the k-th smallest hash value. Python has a built-in hash function hash() that takes any hashable object and returns an integer hash. To convert a hash value to a float, we modular the hash with a large int and divide by it, for instance, $MAXINT=2^{63}-1$."
   ]
  },
  {
   "cell_type": "code",
   "execution_count": 2,
   "metadata": {},
   "outputs": [],
   "source": [
    "import sys\n",
    "MAXINT = sys.maxsize"
   ]
  },
  {
   "cell_type": "code",
   "execution_count": 31,
   "metadata": {},
   "outputs": [],
   "source": [
    "#update function that updates our k smallest values based on some hash\n",
    "#its recursive\n",
    "def update(store, lis, x):\n",
    "    #if our store is the same length of lis we're done\n",
    "    if(len(store)==len(lis)):\n",
    "        return store\n",
    "    #if this is the first pass\n",
    "    elif(len(store)==0):\n",
    "        #only add x to the front if its smaller than the front\n",
    "        if(x<lis[0]):\n",
    "            store.append(x)\n",
    "            #change x to none so we know that a value has been added\n",
    "            return update(store, lis, None)\n",
    "        #if x is not smaller than copy the first element of lis\n",
    "        else:\n",
    "            store.append(lis[0])\n",
    "            return update(store, lis, x)\n",
    "    else:\n",
    "        #we need to check if x has been added or not\n",
    "        if(x != None):\n",
    "            #we also need to check if x already exists in lis so we don't have a duplicate\n",
    "            if(math.isclose(lis[len(store)],x)):\n",
    "                #if x is a duplicate we don't need to do anything to lis since its already sorted\n",
    "                return lis\n",
    "            #if the next item in lis is bigger than x then we need to add x\n",
    "            elif(lis[len(store)]>x):\n",
    "                store.append(x)\n",
    "                return update(store, lis, None)\n",
    "            #if none of the above we just copy the current value\n",
    "            else:\n",
    "                store.append(lis[len(store)])\n",
    "                return update(store, lis, x)\n",
    "        #if x has already been chosen then we just need to add the next up element in lis\n",
    "        #which is behind from store because we already added x\n",
    "        else:\n",
    "            store.append(lis[len(store)-1])\n",
    "            return update(store, lis, x)\n",
    "def kth_smallest_hash_value(input_list, k):\n",
    "    #    maintain a list of the first k values sorted increasing\n",
    "    #    1, 2, 3, 4, 5 if hash > x and hash < x+1: replace x + 1 with the value and shift up\n",
    "    #a list to store the k smallest hash's at any time\n",
    "    k_smallest = [2 for i in range(k)]\n",
    "    #iterate over the elements of the stream\n",
    "    for x in input_list:\n",
    "        a=(hash(x) % MAXINT)/MAXINT\n",
    "        k_smallest=update([], k_smallest, a)\n",
    "\n",
    "    return k_smallest[k-1]\n",
    "    "
   ]
  },
  {
   "cell_type": "markdown",
   "metadata": {},
   "source": [
    "Now we will test k values between 1 to 10. For each k, we will generate a list of 1000 random **strings** using ``str(random.uniform(0,100))``, and estimate its cardinality via the returned value from the function ``kth_smallest_hash_value`` we implemented. For each k, we repeat this process 100 times and record the average and std of the estimates. Finally, we generate a plot with error bars to show the relation between estimates and k values. Note that the std for small k can be very large, so we need to set plt.ylim(-1000, 10000) to cap the y-axis for better visualization."
   ]
  },
  {
   "cell_type": "code",
   "execution_count": 36,
   "metadata": {},
   "outputs": [],
   "source": [
    "#storage for the 100 trials of each k\n",
    "data= [[0 for i in range(100)] for j in range(10)]\n",
    "#to store the mean of each k\n",
    "mean=[0 for i in range(10)]\n",
    "#to store the std of each k\n",
    "std=[0 for i in range(10)]\n",
    "#to store each \"stream\"\n",
    "ran=[0 for i in range(1000)]\n",
    "#to populate data\n",
    "for i in range(10):\n",
    "    for j in range(100):\n",
    "        for a in range(1000):\n",
    "            ran[a]=str(random.uniform(0,100))\n",
    "        data[i][j]=((i+1)/kth_smallest_hash_value(ran,i+1))-1\n",
    "#to calculate the mean and std for each k\n",
    "\n",
    "for i in range(10):\n",
    "    mean[i]=np.mean(data[i])\n",
    "    std[i]=np.std(data[i])"
   ]
  },
  {
   "cell_type": "code",
   "execution_count": 54,
   "metadata": {},
   "outputs": [
    {
     "data": {
      "image/png": "[encoded data removed]",
      "text/plain": [
       "<Figure size 720x360 with 1 Axes>"
      ]
     },
     "metadata": {
      "needs_background": "light"
     },
     "output_type": "display_data"
    }
   ],
   "source": [
    "labels=['1','2','3','4','5','6','7','8','9','10']\n",
    "x_pos=np.arange(10)\n",
    "#mean of the data we're graphing\n",
    "CTEs=mean\n",
    "#error for the data we're graphing\n",
    "error=std\n",
    "fig, ax = plt.subplots(figsize=(10,5))\n",
    "\n",
    "\n",
    "ax.bar(x_pos, CTEs,\n",
    "       yerr=error,\n",
    "       align='center',\n",
    "       alpha=0.5,\n",
    "       ecolor='black',\n",
    "       capsize=5)\n",
    "ax.set_ylabel('Average F0 Estimate')\n",
    "ax.set_xlabel('k Value')\n",
    "ax.set_xticks(x_pos)\n",
    "ax.set_xticklabels(labels)\n",
    "ax.set_title('Average F0 Estimate vs k Value')\n",
    "ax.yaxis.grid(True)\n",
    "\n",
    "# Save the figure and show\n",
    "plt.tight_layout()\n",
    "plt.ylim(-1000, 10000) \n",
    "plt.show()"
   ]
  },
  {
   "cell_type": "markdown",
   "metadata": {},
   "source": [
    "## The median trick"
   ]
  },
  {
   "cell_type": "code",
   "execution_count": 64,
   "metadata": {},
   "outputs": [],
   "source": [
    "def median_trick(generator, expectation, var, eps, delta):\n",
    "    '''\n",
    "    Input:\n",
    "        generator - a function that generates one sample from a distribution when being called.\n",
    "        expectation - Expectation of the distribution\n",
    "        var - Variance of the distribution\n",
    "        eps - epsilon (accuracy parameter) as defined in slide 13\n",
    "        delta - delta (confidence parameter) as defined in slide 13\n",
    "    Output:\n",
    "        estimated value Q\n",
    "    '''\n",
    "    #the equation of k on the slides\n",
    "    mean_number=math.ceil(var/(expectation*expectation*eps*eps))\n",
    "    #the equation of t on the slides\n",
    "    median_number=math.ceil(math.log(1/delta, math.e))\n",
    "    #store the data\n",
    "    data=[[0 for j in range(mean_number)] for i in range(median_number)]\n",
    "    #populate data\n",
    "    for i in range(median_number):\n",
    "        for j in range(mean_number):\n",
    "            data[i][j]=generator()\n",
    "    #find the means\n",
    "    mean=[0 for i in range(median_number)]\n",
    "    for i in range(median_number):\n",
    "        mean[i]=np.mean(data[i])\n",
    "    #return the median of the t means of k values\n",
    "    return np.median(mean)"
   ]
  },
  {
   "cell_type": "markdown",
   "metadata": {},
   "source": [
    "Now we want to test the function with the following idea. Assume Q=2. The unbiased estimator, X of Q, generates estimates that follow a normal distribution with variance equal to 1. The generator for X is already given below as ``normal_generator``.\n",
    "\n",
    "- First, we set eps=0.1, and test how the delta affects the estimates. Range delta in [1e-6, 1e-4, 1e-3, 0.01, 0.1]; we repeat the estimation 100 times for each delta value.\n",
    "\n",
    "- Second, we set delta=0.1, and test how the epsilon affects the estimates. Range epsilon in [0.01, 0.02, 0.05, 0.1, 0.2]; repeat the estimation 100 times for each epsilon value."
   ]
  },
  {
   "cell_type": "code",
   "execution_count": 59,
   "metadata": {},
   "outputs": [],
   "source": [
    "def normal_generator():\n",
    "    return np.random.normal(2,1)"
   ]
  },
  {
   "cell_type": "code",
   "execution_count": 73,
   "metadata": {},
   "outputs": [],
   "source": [
    "#we'll test what changign delta does\n",
    "#list of different deltas\n",
    "delta=[1e-6, 1e-4, 1e-3, 0.01, 0.1]\n",
    "#the data for every tested delta\n",
    "data_d=[[0 for i in range(100)]for j in range(len(delta))]\n",
    "#to populate the data\n",
    "for x in range(len(data_d)):\n",
    "    for y in range(100):\n",
    "        data_d[x][y]=median_trick(normal_generator, 2, 1, .1, delta[x])\n",
    "#store for the means and stds\n",
    "mean_d=[0 for i in range(5)]\n",
    "std_d=[0 for i in range(5)]\n",
    "#finding the mean and std\n",
    "for i in range(5):\n",
    "    mean_d[i]=np.mean(data_d[i])\n",
    "    std_d[i]=np.std(data_d[i])\n",
    "#testing the effects of changing eps\n",
    "eps=[0.01, 0.02, 0.05, 0.1, 0.2]\n",
    "data_e=[[0 for i in range(100)]for j in range(len(eps))]\n",
    "#populate the eps data\n",
    "for x in range(len(data_e)):\n",
    "    for y in range(100):\n",
    "        data_e[x][y]=median_trick(normal_generator, 2, 1, eps[x], .1)\n",
    "#finding the mean and std for the changing eps data\n",
    "mean_e=[0 for i in range(5)]\n",
    "std_e=[0 for i in range(5)]\n",
    "for i in range(5):\n",
    "    mean_e[i]=np.mean(data_e[i])\n",
    "    std_e[i]=np.std(data_e[i])\n",
    "#the labels for each graph\n",
    "labels_d=['1e-6', '1e-4', '1e-3', '0.01', '0.1']\n",
    "labels_e=['0.01', '0.02', '0.05', '0.1', '0.2']"
   ]
  },
  {
   "cell_type": "code",
   "execution_count": 81,
   "metadata": {},
   "outputs": [
    {
     "data": {
      "image/png": "[encoded data removed]",
      "text/plain": [
       "<Figure size 720x360 with 1 Axes>"
      ]
     },
     "metadata": {
      "needs_background": "light"
     },
     "output_type": "display_data"
    }
   ],
   "source": [
    "#mean of the data we're graphing\n",
    "CTEs=mean_d\n",
    "#error for the data we're graphing\n",
    "error=std_d\n",
    "fig, ax = plt.subplots(figsize=(10,5))\n",
    "x_pos=np.arange(5)\n",
    "\n",
    "ax.bar(x_pos, CTEs,\n",
    "       yerr=error,\n",
    "       align='center',\n",
    "       alpha=0.5,\n",
    "       ecolor='black',\n",
    "       capsize=5)\n",
    "ax.set_ylabel('Average Q Estimate')\n",
    "ax.set_xlabel('Delta Value')\n",
    "ax.set_xticks(x_pos)\n",
    "ax.set_xticklabels(labels_d)\n",
    "ax.set_title('Average Q Estimate vs Delta Value')\n",
    "ax.yaxis.grid(True)\n",
    "\n",
    "# Save the figure and show\n",
    "plt.tight_layout()\n",
    "\n",
    "plt.show()"
   ]
  },
  {
   "cell_type": "code",
   "execution_count": 82,
   "metadata": {},
   "outputs": [
    {
     "data": {
      "image/png": "[encoded data removed]",
      "text/plain": [
       "<Figure size 720x360 with 1 Axes>"
      ]
     },
     "metadata": {
      "needs_background": "light"
     },
     "output_type": "display_data"
    }
   ],
   "source": [
    "#mean of the data we're graphing\n",
    "CTEs=mean_e\n",
    "#error for the data we're graphing\n",
    "error=std_e\n",
    "fig, ax = plt.subplots(figsize=(10,5))\n",
    "x_pos=np.arange(5)\n",
    "\n",
    "ax.bar(x_pos, CTEs,\n",
    "       yerr=error,\n",
    "       align='center',\n",
    "       alpha=0.5,\n",
    "       ecolor='black',\n",
    "       capsize=5)\n",
    "ax.set_ylabel('Average Q Estimate')\n",
    "ax.set_xlabel('Epsilon Value')\n",
    "ax.set_xticks(x_pos)\n",
    "ax.set_xticklabels(labels_e)\n",
    "ax.set_title('Average Q Estimate vs Epsilon Value')\n",
    "ax.yaxis.grid(True)\n",
    "\n",
    "# Save the figure and show\n",
    "plt.tight_layout()\n",
    "\n",
    "plt.show()"
   ]
  },
  {
   "cell_type": "markdown",
   "metadata": {},
   "source": [
    "## Morris Algorithm\n",
    "\n",
    "Morris algorithm maintains a counter c that, for every element in the stream, itself increments by 1 with probability $1\\over 2^c$. In the end, it outputs an estimate as $2^c-1$.\n",
    "\n",
    "In this section, we will change the base of this counter. Instead of using 2 only, we use any base $1+\\alpha$. We now increase the counter c with probability $1\\over (1+\\alpha)^c$. First, we implement the function ``morris_update_base_alpha`` below. **This function is called whenever we see an element from the stream to update the counter.**"
   ]
  },
  {
   "cell_type": "code",
   "execution_count": 85,
   "metadata": {},
   "outputs": [],
   "source": [
    "def morris_update_base_alpha(counter, alpha):\n",
    "    '''\n",
    "    Input:\n",
    "        counter - current value of counter c\n",
    "        alpha - as defined in slide 51 alpha\n",
    "    Output:\n",
    "        updated value of counter c\n",
    "    '''\n",
    "    #setting the pr of heads to 1/(alpha+1)^c\n",
    "    p=1/pow(1+alpha,counter)\n",
    "    #generating a random number from [0,1]\n",
    "    #if the number is from [0,p] then heads\n",
    "    if(random.random() <= p):\n",
    "        return counter + 1\n",
    "    else:\n",
    "        return counter\n"
   ]
  },
  {
   "cell_type": "code",
   "execution_count": 175,
   "metadata": {},
   "outputs": [],
   "source": [
    "#a function to estimate x based on alph\n",
    "def estimator(alpha):\n",
    "    x=0\n",
    "    #reads lines from the file\n",
    "    with open(\"soc-hamsterster.edges\", 'r') as file:\n",
    "        for line in file:\n",
    "            a=x\n",
    "            #sets value of x to our estimated x for the current line\n",
    "            x=morris_update_base_alpha(a, alpha)\n",
    "    return x \n",
    "#to store each estimate\n",
    "data=[[0 for i in range(100)]for j in range(8)]\n",
    "#alphas\n",
    "alpha=[2,3,4,5,6,7,8,9]\n",
    "#to store the number of bits\n",
    "bits=[[0 for i in range(100)]for j in range(8)]\n",
    "#populate the data\n",
    "for i in range(8):\n",
    "    for j in range(100):\n",
    "        x=estimator(alpha[i])\n",
    "        #using the equation on page 51: estimate=((1+alpha)^x-1)/alpha=m\n",
    "        data[i][j]=((pow((1+alpha[i]), x)-1)/alpha[i])\n",
    "        #calculating number of bits\n",
    "        bits[i][j]=math.ceil(math.log(x, 2))\n",
    "#store the averages and stds\n",
    "mean=[0 for i in range(8)]\n",
    "std=[0 for i in range(8)]\n",
    "mbits=[0 for i in range(8)]\n",
    "sbits=[0 for i in range(8)]\n",
    "for i in range(8):\n",
    "    mean[i]=np.mean(data[i])\n",
    "    std[i]=np.std(data[i])\n",
    "    mbits[i]=np.mean(bits[i])\n",
    "    sbits[i]=np.std(bits[i])\n",
    "x_pos=np.arange(8)\n"
   ]
  },
  {
   "cell_type": "code",
   "execution_count": 176,
   "metadata": {},
   "outputs": [
    {
     "data": {
      "image/png": "[encoded data removed]",
      "text/plain": [
       "<Figure size 720x360 with 1 Axes>"
      ]
     },
     "metadata": {
      "needs_background": "light"
     },
     "output_type": "display_data"
    }
   ],
   "source": [
    "#mean of the data we're graphing\n",
    "CTEs=mean\n",
    "#error for the data we're graphing\n",
    "error=std\n",
    "fig, ax = plt.subplots(figsize=(10,5))\n",
    "\n",
    "ax.bar(x_pos, CTEs,\n",
    "       yerr=error,\n",
    "       align='center',\n",
    "       alpha=0.5,\n",
    "       ecolor='black',\n",
    "       capsize=5)\n",
    "ax.set_ylabel('Average Number of Lines')\n",
    "ax.set_xlabel('Alpha Value')\n",
    "ax.set_xticks(x_pos)\n",
    "ax.set_xticklabels(alpha)\n",
    "ax.set_title('Average Number of Lines vs Alpha Value')\n",
    "ax.yaxis.grid(True)\n",
    "\n",
    "# Save the figure and show\n",
    "plt.tight_layout()\n",
    "\n",
    "plt.show()"
   ]
  },
  {
   "cell_type": "code",
   "execution_count": 177,
   "metadata": {},
   "outputs": [
    {
     "data": {
      "image/png": "[encoded data removed]",
      "text/plain": [
       "<Figure size 720x360 with 1 Axes>"
      ]
     },
     "metadata": {
      "needs_background": "light"
     },
     "output_type": "display_data"
    }
   ],
   "source": [
    "#mean of the data we're graphing\n",
    "CTEs=mbits\n",
    "#error for the data we're graphing\n",
    "error=sbits\n",
    "fig, ax = plt.subplots(figsize=(10,5))\n",
    "\n",
    "ax.bar(x_pos, CTEs,\n",
    "       yerr=error,\n",
    "       align='center',\n",
    "       alpha=0.5,\n",
    "       ecolor='black',\n",
    "       capsize=5)\n",
    "ax.set_ylabel('Average Number of Bits')\n",
    "ax.set_xlabel('Alpha Value')\n",
    "ax.set_xticks(x_pos)\n",
    "ax.set_xticklabels(alpha)\n",
    "ax.set_title('Average Number of Bits vs Alpha Value')\n",
    "ax.yaxis.grid(True)\n",
    "\n",
    "# Save the figure and show\n",
    "plt.tight_layout()\n",
    "\n",
    "plt.show()"
   ]
  }
 ],
 "metadata": {
  "kernelspec": {
   "display_name": "Python 3",
   "language": "python",
   "name": "python3"
  },
  "language_info": {
   "codemirror_mode": {
    "name": "ipython",
    "version": 3
   },
   "file_extension": ".py",
   "mimetype": "text/x-python",
   "name": "python",
   "nbconvert_exporter": "python",
   "pygments_lexer": "ipython3",
   "version": "3.8.8"
  }
 },
 "nbformat": 4,
 "nbformat_minor": 4
}
