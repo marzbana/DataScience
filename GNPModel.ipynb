{
 "cells": [
  {
   "cell_type": "code",
   "execution_count": 2,
   "metadata": {},
   "outputs": [],
   "source": [
    "import networkx as nx\n",
    "import numpy as np\n",
    "import math\n",
    "import matplotlib.pyplot as plt"
   ]
  },
  {
   "cell_type": "markdown",
   "metadata": {},
   "source": [
    "# Networkx\n",
    "\n",
    "Networkx is a Python library people commonly use when dealing with graphs.\n",
    "\n",
    "\n"
   ]
  },
  {
   "cell_type": "markdown",
   "metadata": {},
   "source": [
    "# $G(n,p)$\n",
    "\n",
    "This notebook aims to empirically investigate the properties of Erdős-Rényi graphs, specifically the $G(n,p)$ model, and compare them with real-world networks. Networkx provides a convenient way to generate random graphs using built-in functions for various commonly used graph models. To create an Erdős-Rényi graph, we can use the function `nx.erdos_renyi_graph(n, p)`, where `n` is the number of nodes and `p` is the probability of an edge between two nodes. The function returns an `nx.Graph` object containing the nodes and edges of the generated graph.\n"
   ]
  },
  {
   "cell_type": "markdown",
   "metadata": {},
   "source": [
    "## Statistics of $G(n,p)$ (20 pts)\n",
    "\n",
    "In the upcoming code cell, we will be generate graphs from $G(n,p)$ model with $n$ set to 100, using different values of $p$ ranging from 0.001 to 0.081, with a small step size such as 0.005. For each value of $p$, we should generate 10 graph samples from the model and report the average of the following graph statistics with error bars for std. Explanation on how we compute these statistics using networkx functions:\n",
    "\n",
    "- Number of edges: To obtain the number of edges in a given nx.graph object G, we can utilize the function `G.number_of_edges()`.\n",
    "\n",
    "- Number of triangles: Using `nx.triangles(G)`, a dictionary of (node id, number of triangles participated) key-value pairs is returned. To calculate the total number of triangles in G, we simply sum all the values in the dictionary and divide the result by 3 (since each triangle is counted three times in the dictionary).\n",
    "\n",
    "- Number of isolated nodes: If a node has degree 0, then it is an isolated node. The function G.degree is a map-like object consisting of (node id, node degree) pairs. To count the number of isolated nodes, iterate through `G.degree` and count the number of 0s in the values.\n",
    "\n",
    "- Number of connected components: In graph theory, a connected component is a set of vertices in a graph that are linked to each other by paths. Using nx.connected_components(G), a node list generator is returned, which yields one component at a time. To get the total number of connected components, you can use `len(list(nx.connected_components(G)))`.\n",
    "\n",
    "For each graph statistic, we generate a plot where the x-axis represents the values of $p$, and the y-axis represents the average of the statistic. "
   ]
  },
  {
   "cell_type": "code",
   "execution_count": 4,
   "metadata": {},
   "outputs": [],
   "source": [
    "#number of p values, number of graphs per p value\n",
    "rows, cols = (17, 10)\n",
    "#store each graph in a list\n",
    "graphs = [[None for i in range(cols)] for x in range(rows)]\n",
    "p=.001\n",
    "#geneate the graphs\n",
    "for row in range(rows):\n",
    "    for col in range(cols):\n",
    "        x=nx.erdos_renyi_graph(100, p)\n",
    "        graphs[row][col]=x\n",
    "    p += .005\n",
    "#a 2-d list to store all the data for each graph\n",
    "edges = [[0 for i in range(cols)] for x in range(rows)]\n",
    "triangles = [[0 for i in range(cols)] for x in range(rows)]\n",
    "isolated = [[0 for i in range(cols)] for x in range(rows)]\n",
    "connected = [[0 for i in range(cols)] for x in range(rows)]\n",
    "#calculating the data\n",
    "for row in range(rows):\n",
    "    for col in range(cols):\n",
    "        edges[row][col]=graphs[row][col].number_of_edges()\n",
    "        for x, y in nx.triangles(graphs[row][col]).items():\n",
    "            triangles[row][col] += y\n",
    "        triangles[row][col] =  triangles[row][col]/3\n",
    "        for x, y in graphs[row][col].degree:\n",
    "            if(y == 0):\n",
    "                isolated[row][col] += 1\n",
    "        connected[row][col]= len(list(nx.connected_components(graphs[row][col])))\n",
    "#calculating mean and std for all the data\n",
    "mean = [[0 for i in range(17)] for x in range(4)]\n",
    "std = [[0 for i in range(17)] for x in range(4)]\n",
    "for i in range(17):\n",
    "        mean[0][i] = np.mean(edges[i])\n",
    "        mean[1][i] = np.mean(triangles[i])\n",
    "        mean[2][i] = np.mean(isolated[i])\n",
    "        mean[3][i] = np.mean(connected[i])\n",
    "        std[0][i] = np.std(edges[i])\n",
    "        std[1][i] = np.std(triangles[i])\n",
    "        std[2][i] = np.std(isolated[i])\n",
    "        std[3][i] = np.std(connected[i])\n",
    "#the labels for the x values, which are probability values, for all of the graphs\n",
    "labels= [0 for i in range(17)]\n",
    "for i in range(17):\n",
    "    x=(.005*i) + .001 \n",
    "    labels[i]=\"{:.3f}\".format(round(x , 3))\n",
    "x_pos=np.arange(len(labels))"
   ]
  },
  {
   "cell_type": "code",
   "execution_count": 5,
   "metadata": {},
   "outputs": [
    {
     "data": {
      "image/png": "[encoded data removed]",
      "text/plain": [
       "<Figure size 720x360 with 1 Axes>"
      ]
     },
     "metadata": {
      "needs_background": "light"
     },
     "output_type": "display_data"
    }
   ],
   "source": [
    "# plot with error bars for number of edges.\n",
    "#mean of the data we're graphing\n",
    "CTEs=mean[0]\n",
    "#error for the data we're graphing\n",
    "error=std[0]\n",
    "fig, ax = plt.subplots(figsize=(10,5))\n",
    "\n",
    "ax.bar(x_pos, CTEs,\n",
    "       yerr=error,\n",
    "       align='center',\n",
    "       alpha=0.5,\n",
    "       ecolor='black',\n",
    "       capsize=5)\n",
    "ax.set_ylabel('Average Edges')\n",
    "ax.set_xlabel('Probability')\n",
    "ax.set_xticks(x_pos)\n",
    "ax.set_xticklabels(labels)\n",
    "ax.set_title('Average Edges vs Probability')\n",
    "ax.yaxis.grid(True)\n",
    "\n",
    "# Save the figure and show\n",
    "plt.tight_layout()\n",
    "\n",
    "plt.show()"
   ]
  },
  {
   "cell_type": "code",
   "execution_count": 6,
   "metadata": {},
   "outputs": [
    {
     "data": {
      "image/png": "[encoded data removed]",
      "text/plain": [
       "<Figure size 720x360 with 1 Axes>"
      ]
     },
     "metadata": {
      "needs_background": "light"
     },
     "output_type": "display_data"
    }
   ],
   "source": [
    "# plot with error bars for number of triangles.\n",
    "#mean of the data we're graphing\n",
    "CTEs=mean[1]\n",
    "#error of the data we're graphing\n",
    "error=std[1]\n",
    "fig, ax = plt.subplots(figsize=(10,5))\n",
    "\n",
    "ax.bar(x_pos, CTEs,\n",
    "       yerr=error,\n",
    "       align='center',\n",
    "       alpha=0.5,\n",
    "       ecolor='black',\n",
    "       capsize=5)\n",
    "ax.set_ylabel('Average Triangles')\n",
    "ax.set_xlabel('Probability')\n",
    "ax.set_xticks(x_pos)\n",
    "ax.set_xticklabels(labels)\n",
    "ax.set_title('Average Triangles vs Probability')\n",
    "ax.yaxis.grid(True)\n",
    "\n",
    "# Save the figure and show\n",
    "plt.tight_layout()\n",
    "\n",
    "plt.show()"
   ]
  },
  {
   "cell_type": "code",
   "execution_count": 7,
   "metadata": {},
   "outputs": [
    {
     "data": {
      "image/png": "[encoded data removed]",
      "text/plain": [
       "<Figure size 720x360 with 1 Axes>"
      ]
     },
     "metadata": {
      "needs_background": "light"
     },
     "output_type": "display_data"
    }
   ],
   "source": [
    "# plot with error bars for number of isolated nodes.\n",
    "#mean of the data we're graphing\n",
    "CTEs=mean[2]\n",
    "#error of the data we're graphing\n",
    "error=std[2]\n",
    "fig, ax = plt.subplots(figsize=(10,5))\n",
    "\n",
    "ax.bar(x_pos, CTEs,\n",
    "       yerr=error,\n",
    "       align='center',\n",
    "       alpha=0.5,\n",
    "       ecolor='black',\n",
    "       capsize=5)\n",
    "ax.set_ylabel('Average Isolated Nodes')\n",
    "ax.set_xlabel('Probability')\n",
    "ax.set_xticks(x_pos)\n",
    "ax.set_xticklabels(labels)\n",
    "ax.set_title('Average Isolated Nodes vs Probability')\n",
    "ax.yaxis.grid(True)\n",
    "\n",
    "# Save the figure and show\n",
    "plt.tight_layout()\n",
    "\n",
    "plt.show()"
   ]
  },
  {
   "cell_type": "code",
   "execution_count": 8,
   "metadata": {},
   "outputs": [
    {
     "data": {
      "image/png": "[encoded data removed]",
      "text/plain": [
       "<Figure size 720x360 with 1 Axes>"
      ]
     },
     "metadata": {
      "needs_background": "light"
     },
     "output_type": "display_data"
    }
   ],
   "source": [
    "# plot with error bars for number of connected components.\n",
    "#mean of the data we're graphing\n",
    "CTEs=mean[3]\n",
    "#error of the data we're graphing\n",
    "error=std[3]\n",
    "fig, ax = plt.subplots(figsize=(10,5))\n",
    "\n",
    "ax.bar(x_pos, CTEs,\n",
    "       yerr=error,\n",
    "       align='center',\n",
    "       alpha=0.5,\n",
    "       ecolor='black',\n",
    "       capsize=5)\n",
    "ax.set_ylabel('Average Number of Connected Components')\n",
    "ax.set_xlabel('Probability')\n",
    "ax.set_xticks(x_pos)\n",
    "ax.set_xticklabels(labels)\n",
    "ax.set_title('Average Number of Connected Components vs Probability')\n",
    "ax.yaxis.grid(True)\n",
    "\n",
    "# Save the figure and show\n",
    "plt.tight_layout()\n",
    "\n",
    "plt.show()"
   ]
  },
  {
   "cell_type": "markdown",
   "metadata": {},
   "source": [
    "# Real world network\n",
    "We have a real-world social network dataset saved as edgelist format named \"fb-pages-food.edges\". Each line in this file has the format of \"node1,node2\" that represents an edge connecting node1 and node2. An edgelist file can be loaded as nx.Graph directly using nx.read_edgelist() like the following."
   ]
  },
  {
   "cell_type": "code",
   "execution_count": 9,
   "metadata": {},
   "outputs": [],
   "source": [
    "G = nx.read_edgelist(\"fb-pages-food.edges\", delimiter=',')"
   ]
  },
  {
   "cell_type": "markdown",
   "metadata": {},
   "source": [
    "How many nodes and edges are there in this graph? "
   ]
  },
  {
   "cell_type": "code",
   "execution_count": 42,
   "metadata": {},
   "outputs": [
    {
     "name": "stdout",
     "output_type": "stream",
     "text": [
      "Number of Nodes:  620\n",
      "Number of Edges:  2102\n",
      "Number of Triangles:  2935\n",
      "Number of Isolated Nodes:  0\n",
      "Number of Connected Components:  1\n"
     ]
    }
   ],
   "source": [
    "# Report the graph statistics.\n",
    "#printing number of edges and nodes\n",
    "print(\"Number of Nodes: \", G.number_of_nodes())\n",
    "print(\"Number of Edges: \", G.number_of_edges())\n",
    "triangles=0\n",
    "#calculating number of triangles\n",
    "for x, y in nx.triangles(G).items():\n",
    "            triangles += y\n",
    "isolated=0\n",
    "#calculating number of isolated nodes\n",
    "for x, y in G.degree:\n",
    "    if(y == 0):\n",
    "        isolated += 1\n",
    "#number of connected components\n",
    "connected= len(list(nx.connected_components(G)))\n",
    "print(\"Number of Triangles: \", \"{:.0f}\".format(triangles/3))\n",
    "print(\"Number of Isolated Nodes: \", isolated)\n",
    "print(\"Number of Connected Components: \", connected)"
   ]
  },
  {
   "cell_type": "markdown",
   "metadata": {},
   "source": [
    "In the next cell, we plot a histogram of the node degrees in this graph with bins=15."
   ]
  },
  {
   "cell_type": "code",
   "execution_count": 11,
   "metadata": {},
   "outputs": [
    {
     "data": {
      "text/plain": [
       "<function matplotlib.pyplot.show(close=None, block=None)>"
      ]
     },
     "execution_count": 11,
     "metadata": {},
     "output_type": "execute_result"
    },
    {
     "data": {
      "image/png": "[encoded data removed]",
      "text/plain": [
       "<Figure size 720x720 with 1 Axes>"
      ]
     },
     "metadata": {
      "needs_background": "light"
     },
     "output_type": "display_data"
    }
   ],
   "source": [
    "plt.figure(figsize=(10,10))\n",
    "common_params = dict(bins=15)\n",
    "#a list to store all of the degrees\n",
    "count = [0 for i in range(G.number_of_nodes())]\n",
    "i=0\n",
    "for x, y in G.degree:\n",
    "    count[i]=y\n",
    "    i += 1\n",
    "plt.title('Histogram of the Degree of Nodes in G')\n",
    "plt.hist(count, **common_params)\n",
    "plt.xlabel(\"Degree\")\n",
    "plt.ylabel(\"Count\")\n",
    "plt.show"
   ]
  },
  {
   "cell_type": "markdown",
   "metadata": {},
   "source": [
    "## Fitting the data with G(n,p)"
   ]
  },
  {
   "cell_type": "code",
   "execution_count": 12,
   "metadata": {},
   "outputs": [
    {
     "name": "stdout",
     "output_type": "stream",
     "text": [
      "Estimated value of p: 0.0109541925061233\n"
     ]
    }
   ],
   "source": [
    "#E(edges)=np where n is the number of pairs of nodes\n",
    "#p=m/(nodes c 2)\n",
    "#a function to calculate p from the expectation of edges of a G(n, p) model\n",
    "def calculateP(nodes, edges):\n",
    "    p=edges/math.comb(nodes, 2)\n",
    "    return p\n",
    "print(\"Estimated value of p:\", calculateP(G.number_of_nodes(), G.number_of_edges()))\n",
    "p=calculateP(G.number_of_nodes(), G.number_of_edges())"
   ]
  },
  {
   "cell_type": "code",
   "execution_count": 40,
   "metadata": {},
   "outputs": [
    {
     "name": "stdout",
     "output_type": "stream",
     "text": [
      "Average amount of edges: 2110.0\n",
      "Average amount of triangles: 52.0\n",
      "Average amount of isolated nodes: 0.5\n",
      "Average amount of connected components: 1.5\n"
     ]
    }
   ],
   "source": [
    "number=10\n",
    "#to store all of the graphs\n",
    "graphs=[None for i in range(number)]\n",
    "#to store all of the data\n",
    "edges=[0 for i in range(number)] \n",
    "triangles=[0 for i in range(number)] \n",
    "isolated=[0 for i in range(number)] \n",
    "connected=[0 for i in range(number)]\n",
    "#getting the graphs\n",
    "for i in range(number):\n",
    "    graphs[i]=nx.erdos_renyi_graph(G.number_of_nodes(), p)\n",
    "#getting all of the data\n",
    "for col in range(number):\n",
    "        edges[col]=graphs[col].number_of_edges()\n",
    "        for x, y in nx.triangles(graphs[col]).items():\n",
    "            triangles[col] += y\n",
    "        triangles[col] =  triangles[col]/3\n",
    "        for x, y in graphs[col].degree:\n",
    "            if(y == 0):\n",
    "                isolated[col] += 1\n",
    "        connected[col]= len(list(nx.connected_components(graphs[col])))\n",
    "#finding the mean of all the data\n",
    "mean= [0 for i in range(4)]\n",
    "for i in range(number):\n",
    "    mean[0] += edges[i]\n",
    "    mean[1] += triangles[i]\n",
    "    mean[2] += isolated[i]\n",
    "    mean[3] += connected[i]\n",
    "mean[0]=mean[0]/number\n",
    "mean[1]=mean[1]/number\n",
    "mean[2]=mean[2]/number\n",
    "mean[3]=mean[3]/number\n",
    "print(\"Average amount of edges:\", mean[0])\n",
    "print(\"Average amount of triangles:\", mean[1])\n",
    "print(\"Average amount of isolated nodes:\", mean[2])\n",
    "print(\"Average amount of connected components:\", mean[3])"
   ]
  },
  {
   "cell_type": "code",
   "execution_count": 41,
   "metadata": {},
   "outputs": [
    {
     "data": {
      "text/plain": [
       "<function matplotlib.pyplot.show(close=None, block=None)>"
      ]
     },
     "execution_count": 41,
     "metadata": {},
     "output_type": "execute_result"
    },
    {
     "data": {
      "image/png": "[encoded data removed]",
      "text/plain": [
       "<Figure size 720x720 with 1 Axes>"
      ]
     },
     "metadata": {
      "needs_background": "light"
     },
     "output_type": "display_data"
    }
   ],
   "source": [
    "plt.figure(figsize=(10,10))\n",
    "common_params = dict(bins=15)\n",
    "#count of the degrees of all the nodes\n",
    "count = [0 for i in range(G.number_of_nodes())]\n",
    "i=0\n",
    "for x, y in graphs[1].degree:\n",
    "    count[i]=y\n",
    "    i += 1\n",
    "plt.title('Histogram of the Degree of Nodes in a Random Graph')\n",
    "plt.hist(count, **common_params)\n",
    "plt.xlabel(\"Degree\")\n",
    "plt.ylabel(\"Count\")\n",
    "plt.show\n"
   ]
  },
  {
   "cell_type": "markdown",
   "metadata": {},
   "source": [
    "## Discussion\n",
    "The real graph has degree values concentrated between 1 and 10. However, the random graph has degree values concentrated around 4 to 8. Also, the random graph's degree histogram ressembles the normal distribution while the real graph does not."
   ]
  },
  {
   "cell_type": "markdown",
   "metadata": {},
   "source": [
    "## A random graph model that fits the degree sequence (10pts)\n",
    "\n",
    "Given a sequence of expected degrees $(d_1,d_2\\dots d_n)$ of length n, we generate a graph with n nodes, and assigns an edge between node $u$ and node $v$ with probability $$p_{uv}={d_ud_v\\over \\sum_k d_k}$$.\n",
    "\n",
    "This model is known as the Chung-Lu model and is implemented in the networkx library. To generate a graph from this model, we simply use the function `nx.expected_degree_graph(node_degree_list, selfloops=False)`.\n",
    "\n",
    "To compare the generated graph with a real social network, we pass the degree sequence of the real network into this model and generate 10 samples. Then, we plot the degree histogram of the generated graphs and compare it with the original graph. Additionally, we report the same graph statistics for the generated graphs and compare them with the original graph. "
   ]
  },
  {
   "cell_type": "code",
   "execution_count": 31,
   "metadata": {},
   "outputs": [
    {
     "data": {
      "text/plain": [
       "<function matplotlib.pyplot.show(close=None, block=None)>"
      ]
     },
     "execution_count": 31,
     "metadata": {},
     "output_type": "execute_result"
    },
    {
     "data": {
      "image/png": "[encoded data removed]",
      "text/plain": [
       "<Figure size 720x720 with 1 Axes>"
      ]
     },
     "metadata": {
      "needs_background": "light"
     },
     "output_type": "display_data"
    }
   ],
   "source": [
    "#to store all the degrees of the nodes\n",
    "degree=[0 for i in range(G.number_of_nodes())]\n",
    "i=0\n",
    "#removing the node names\n",
    "for x, y in (G.degree):\n",
    "    degree[i]=y\n",
    "    i += 1\n",
    "#to store all the graphs\n",
    "graphs= [0 for i in range(10)]\n",
    "#creating the graphs from the node degrees\n",
    "for i in range(10):\n",
    "    graphs[i]=nx.expected_degree_graph(degree, selfloops=False)\n",
    "#plotting the graph\n",
    "plt.figure(figsize=(10,10))\n",
    "common_params = dict(bins=15)\n",
    "\n",
    "z = [0 for i in range(G.number_of_nodes())]\n",
    "a=0\n",
    "for i in range(10):\n",
    "    for x, y in graphs[i].degree:\n",
    "        z[a]=y\n",
    "        a += 1\n",
    "    a=0\n",
    "for i in range(10):\n",
    "    z[i] =z[i]/10\n",
    "plt.title('Histogram of the Average Degree of Nodes in the 10 Generated Graphs')\n",
    "plt.hist(z, **common_params)\n",
    "plt.xlabel(\"Degree\")\n",
    "plt.ylabel(\"Count\")\n",
    "plt.show"
   ]
  },
  {
   "cell_type": "code",
   "execution_count": 16,
   "metadata": {},
   "outputs": [
    {
     "name": "stdout",
     "output_type": "stream",
     "text": [
      "Average amount of edges: 2103.4\n",
      "Average amount of triangles: 1029.2\n",
      "Average amount of isolated nodes: 59.3\n",
      "Average amount of connected components: 61.2\n"
     ]
    }
   ],
   "source": [
    "number=10\n",
    "#to store all the data\n",
    "edges=[0 for i in range(number)] \n",
    "triangles=[0 for i in range(number)] \n",
    "isolated=[0 for i in range(number)] \n",
    "connected=[0 for i in range(number)] \n",
    "#calculating the data\n",
    "for col in range(number):\n",
    "        edges[col]=graphs[col].number_of_edges()\n",
    "        for x, y in nx.triangles(graphs[col]).items():\n",
    "            triangles[col] += y\n",
    "        triangles[col] =  triangles[col]/3\n",
    "        for x, y in graphs[col].degree:\n",
    "            if(y == 0):\n",
    "                isolated[col] += 1\n",
    "        connected[col]= len(list(nx.connected_components(graphs[col])))\n",
    "mean= [0 for i in range(4)]\n",
    "#calculating the mean for all the data\n",
    "for i in range(number):\n",
    "    mean[0] += edges[i]\n",
    "    mean[1] += triangles[i]\n",
    "    mean[2] += isolated[i]\n",
    "    mean[3] += connected[i]\n",
    "mean[0]=mean[0]/number\n",
    "mean[1]=mean[1]/number\n",
    "mean[2]=mean[2]/number\n",
    "mean[3]=mean[3]/number\n",
    "print(\"Average amount of edges:\", mean[0])\n",
    "print(\"Average amount of triangles:\", mean[1])\n",
    "print(\"Average amount of isolated nodes:\", mean[2])\n",
    "print(\"Average amount of connected components:\", mean[3])"
   ]
  },
  {
   "cell_type": "markdown",
   "metadata": {},
   "source": [
    "## Discussion\n",
    "The histogram from the new type of generated graphs ressembles the histogram of the real graph much closer. It has degree values concentrated from 0 to 10 and doesn't resemble a normal distribution similarly to the real graph. However, the statistics from the newly generated graphs are very different from the real graph except for the average number of edges. The number of edges is similar with the generated graphs, but the amount of triangles is about 15 times higher, the average amount of isolated nodes is about 120 times higher, and the average amount of connected components is about 40 times higher in the generated graphs than the real graph on average."
   ]
  }
 ],
 "metadata": {
  "kernelspec": {
   "display_name": "Python 3",
   "language": "python",
   "name": "python3"
  },
  "language_info": {
   "codemirror_mode": {
    "name": "ipython",
    "version": 3
   },
   "file_extension": ".py",
   "mimetype": "text/x-python",
   "name": "python",
   "nbconvert_exporter": "python",
   "pygments_lexer": "ipython3",
   "version": "3.8.8"
  }
 },
 "nbformat": 4,
 "nbformat_minor": 4
}
